{
 "cells": [
  {
   "cell_type": "markdown",
   "metadata": {},
   "source": [
    "------------------------------\n",
    "# Gadient Descent\n",
    "> Prerequisites to increase your understanding\n",
    "> - Programming knowledge\n",
    "> - Mathematical background\n",
    "> - Jupyter notebook knowledge\n",
    "\n",
    "I will try to explain gradient descent a little in this assignment. I am going to abbreviate gradient descent as GD in this notebook now on. \n",
    "\n",
    "GD is an algorithm that is used to solve the machine learning problems such as linear regression.\n",
    "\n",
    "Simply, the goal of linear regression is to fit a line of corresponding given dataset or points. \n",
    "\n",
    "Let's consider that we want to fit a line for the points showed with the graphic below.\n",
    "\n",
    "| x (input)| y (output)|\n",
    "| :----- | :----- |\n",
    "| 10.0   | 8.04   |\n",
    "| 8.0    | 6.95   |\n",
    "| 13.0   | 7.58   |\n",
    "| 9.0    | 8.81   |\n",
    "| 11.0   | 8.33   |\n",
    "| 14.0   | 9.96   |\n",
    "| 6.0    | 7.24   |\n",
    "| 4.0    | 4.26   |\n",
    "| 12.0   | 10.84  |\n",
    "| 7.0    | 4.82   |\n",
    "| 5.0    | 5.68   |\n",
    "\n",
    "<img src=\"datasetgraph.png\" />"
   ]
  },
  {
   "cell_type": "code",
   "execution_count": 1,
   "metadata": {
    "collapsed": true
   },
   "outputs": [],
   "source": [
    "# dataset\n",
    "y = [8.04, 6.95, 7.58, 8.81, 8.33, 9.96, 7.24, 4.26, 10.84, 4.82, 5.68]\n",
    "x = [10.0, 8.00, 13.0, 9.00, 11.0, 14.0, 6.00, 4.00, 12.00, 7.00, 5.00]"
   ]
  },
  {
   "cell_type": "markdown",
   "metadata": {},
   "source": [
    "As you can guess, we are talking about a line and a line has an equation like $y = mx + b$. Here the coefficient of $x$, $m$ is the slope of the line and $b$ is y-intersect. We can simply say that the fittest line (the solution of linear regression) is strictly related to the values of $m$ and $b$. That's why it is obvious that we have to find the best pair of $m$ and $b$ values.\n",
    "\n",
    "The common approach to finding the best values is to use a function named _error function_ or _cost function_ to measure how fit the line is.\n",
    "\n",
    "\\begin{equation*}\n",
    "Error_{m, b} = \\frac{1}{N} \\sum_{i=1}^N \\left( y_i - \\left(m x_i + b \\right) \\right)^2\n",
    "\\end{equation*}\n",
    "\n",
    "The squared error function makes us enable to calculate the error value positive and differentiate the error function."
   ]
  },
  {
   "cell_type": "code",
   "execution_count": 2,
   "metadata": {},
   "outputs": [
    {
     "name": "stdout",
     "output_type": "stream",
     "text": [
      "total error: 3.3391545454545453\n"
     ]
    }
   ],
   "source": [
    "def computeError(m, b):\n",
    "    # initialize total error\n",
    "    error_m_b = 0.0\n",
    "    \n",
    "    # loop within the dataset\n",
    "    for i in range(len(x)):\n",
    "        x_i = x[i]\n",
    "        y_i = y[i]\n",
    "        \n",
    "        # compute the error for a single point\n",
    "        # and add it to the total error\n",
    "        error_m_b += (y_i - (m * x_i + b)) ** 2\n",
    "    # end of for loop\n",
    "    \n",
    "    # compute the mean of the error for all dataset\n",
    "    error_m_b = error_m_b / float(len(x))\n",
    "    return error_m_b\n",
    "# end of def computeError\n",
    "\n",
    "# compute error for the line corresponded by given m and b values\n",
    "print(\"total error:\", computeError(0.9, 0.1))"
   ]
  },
  {
   "cell_type": "markdown",
   "metadata": {},
   "source": [
    "It is simple to compute the total error for a certain line. But we need to find the direction of total error to determine what we are going to do. Are we going to reduce the slope and y-intersect or raise them? Is total error increasing or decreasing? So we have to calculate the changes of the total error. As you know this means the first derivative of the error function.\n",
    "\n",
    "<img src=\"x2graph.png\" style=\"height:300px;width:550px\"/>\n",
    "\n",
    "However, the error function has two separate parameters. Which parameter are we going to differentiate it with respect to? We are going to differentiate it with respect to two parameters separately by the partial derivative. Partial derivative means that simply we approach the other parameter (variable) as a constant (for more information [wiki](https://en.wikipedia.org/wiki/Partial_derivative)). When we differentiate the error function with respect to two separate parameters partially, we will have two equations such below.\n",
    "\n",
    "\\begin{equation}\n",
    "\\frac{\\partial E}{\\partial m} = \\frac{2}{N} \\sum_{i=1}^N -x_i \\left( y_i - \\left( m x_i + b \\right) \\right)\n",
    "\\end{equation}\n",
    "\n",
    "----------------------\n",
    "\\begin{equation}\n",
    "\\frac{\\partial E}{\\partial b} = \\frac{2}{N} \\sum_{i=1}^N - \\left( y_i - \\left( m x_i + b \\right) \\right)\n",
    "\\end{equation}\n",
    "\n",
    "Let's look at how the code of these equations looks like."
   ]
  },
  {
   "cell_type": "code",
   "execution_count": 3,
   "metadata": {
    "scrolled": false
   },
   "outputs": [
    {
     "name": "stdout",
     "output_type": "stream",
     "text": [
      "gradient_m:  36.98181818181817\n",
      "gradient_b:  2.998181818181818\n"
     ]
    }
   ],
   "source": [
    "# definition of the function to compute the gradient of m.\n",
    "def gradientM(m, b):\n",
    "    # setting default value of gradient\n",
    "    gradient_m = 0.0\n",
    "    \n",
    "    # loop within the dataset\n",
    "    for i in range(len(x)):\n",
    "        x_i = x[i]\n",
    "        y_i = y[i]\n",
    "        \n",
    "        # compute the first derivative of the error funtion\n",
    "        # with respect to m\n",
    "        gradient_m += -x_i * (y_i - (m * x_i + b))\n",
    "    # end of for loop\n",
    "    \n",
    "    # mean of total error\n",
    "    gradient_m = 2 * gradient_m / float(len(x))\n",
    "    return gradient_m\n",
    "# end of def gradientM\n",
    "\n",
    "\n",
    "# definition of the function to compute the gradient of b.\n",
    "def gradientB(m, b):\n",
    "    # setting default value of gradient\n",
    "    gradient_b = 0.0\n",
    "    \n",
    "    # loop within the dataset\n",
    "    for i in range(len(x)):\n",
    "        x_i = x[i]\n",
    "        y_i = y[i]\n",
    "        \n",
    "        # compute the first derivative of the error funtion\n",
    "        # with respect to b\n",
    "        gradient_b += -(y_i - (m * x_i + b))\n",
    "    # end of for loop\n",
    "    \n",
    "    # mean of total error\n",
    "    gradient_b = 2 * gradient_b / float(len(x))\n",
    "    return gradient_b\n",
    "# end of def gradientB\n",
    "\n",
    "print(\"gradient_m: \", gradientM(1, 0))\n",
    "print(\"gradient_b: \", gradientB(1, 0))"
   ]
  },
  {
   "cell_type": "markdown",
   "metadata": {},
   "source": [
    "Now we have enough information how to compute the gradient of the line and determine how fit it is. So what is next that we are going to do? We are going to use these gradient results that we computed to determine the next values of $m$ and $b$. That's why we need a new equation to determine new values of $m$ and $b$ parameters.\n",
    "\n",
    "\\begin{align}\n",
    "& m_0 = \\text{initial value} \\\\\n",
    "& \\text{for} \\; \\tau = 1, 2,\\dots \\\\\n",
    "& m_{\\tau} = m_{\\tau-1} - \\eta \\nabla E(m_{\\tau-1})\n",
    "\\end{align}\n",
    "\n",
    "-------------------------------\n",
    "\\begin{align}\n",
    "& b_0 = \\text{initial value} \\\\\n",
    "& \\text{for} \\; \\tau = 1, 2,\\dots \\\\\n",
    "& b_{\\tau} = b_{\\tau-1} - \\eta \\nabla E(b_{\\tau-1})\n",
    "\\end{align}\n",
    "\n",
    "* $\\eta$: Learning rate is a parameter of the algorithm\n",
    "* $m$ and $b$: the variable is the parameters of the Model. _They represent scalar variables._\n",
    "* $y$: targets (outputs)\n",
    "* $x$: inputs\n",
    "\n",
    "Yes, above you can see the calculation methods for new $m$ and $b$ values. As you know $\\nabla E(b_{\\tau-1})$ and $\\nabla E(m_{\\tau-1})$ mean derivative. Thus, we can write these equations like;\n",
    "\n",
    "\\begin{align}\n",
    "\\nabla E(m_{\\tau-1}) = \\frac{2}{N} \\sum_{i=1}^N -x_i \\left( y_i - \\left( m_{\\tau-1} x_i + b_{\\tau-1} \\right) \\right)\n",
    "\\end{align}\n",
    "\n",
    "-------------------------------\n",
    "\\begin{align}\n",
    "\\nabla E(b_{\\tau-1}) = \\frac{2}{N} \\sum_{i=1}^N - \\left( y_i - \\left( m_{\\tau-1} x_i + b_{\\tau-1} \\right) \\right)\n",
    "\\end{align}"
   ]
  },
  {
   "cell_type": "code",
   "execution_count": 4,
   "metadata": {
    "scrolled": false
   },
   "outputs": [
    {
     "name": "stdout",
     "output_type": "stream",
     "text": [
      "0 \t error: 60.01569999999999\n",
      "10 \t error: 3.8288460786805696\n",
      "20 \t error: 2.159837161759056\n",
      "30 \t error: 2.0758079629206465\n",
      "40 \t error: 2.039328445552182\n",
      "50 \t error: 2.005681412537383\n",
      "60 \t error: 1.9735062215911647\n",
      "70 \t error: 1.942704101310751\n",
      "80 \t error: 1.9132154562486745\n",
      "90 \t error: 1.884984247675222\n",
      "100 \t error: 1.8579568559211126\n"
     ]
    }
   ],
   "source": [
    "def gradientStep(eta, m, b):\n",
    "    # compute the derivate with respect to m and b\n",
    "    dM = gradientM(m, b)\n",
    "    dB = gradientB(m, b)\n",
    "    \n",
    "    # compute new value of m and b\n",
    "    m = m - eta * dM\n",
    "    b = b - eta * dB\n",
    "    \n",
    "    return m, b\n",
    "# end of def gradientStep\n",
    "\n",
    "# iteration count\n",
    "N = 101\n",
    "\n",
    "# learning rate\n",
    "eta = 0.01\n",
    "\n",
    "# initial values\n",
    "m = b = 0\n",
    "\n",
    "# Let's start iterating\n",
    "for i in range(N):\n",
    "    if i % 10 == 0:\n",
    "        print(i, \"\\t error:\", computeError(m, b))\n",
    "    m, b = gradientStep(eta, m, b)\n",
    "# end of for loop"
   ]
  },
  {
   "cell_type": "markdown",
   "metadata": {},
   "source": [
    "As you can see that we accomplished finding the fittest line out. Let's how it looks like :)"
   ]
  },
  {
   "cell_type": "code",
   "execution_count": 5,
   "metadata": {},
   "outputs": [
    {
     "name": "stdout",
     "output_type": "stream",
     "text": [
      "Parameters of the fittest line:\n",
      "m: 0.7327729535801762\n",
      "b: 0.6502302349598857\n"
     ]
    },
    {
     "data": {
      "image/png": "[encoded data removed]",
      "text/plain": [
       "<matplotlib.figure.Figure at 0x1fc17a04710>"
      ]
     },
     "metadata": {},
     "output_type": "display_data"
    }
   ],
   "source": [
    "# python library for plotting\n",
    "import matplotlib.pylab as plt\n",
    "\n",
    "# iteration count\n",
    "N = 100\n",
    "\n",
    "# learning rate\n",
    "eta = 0.01\n",
    "\n",
    "# initial values\n",
    "m = b = 0\n",
    "\n",
    "# lists to keep y-values of line\n",
    "line = []\n",
    "\n",
    "# Let's start iterating\n",
    "for i in range(N):\n",
    "    m, b = gradientStep(eta, m, b)\n",
    "# end of for loop\n",
    "\n",
    "for i in range(len(x)):\n",
    "    line.append(m * x[i] + b)\n",
    "# end of for loop\n",
    "\n",
    "print(\"Parameters of the fittest line:\")\n",
    "print(\"m:\", m)\n",
    "print(\"b:\", b)\n",
    "\n",
    "# drawing of graph.\n",
    "plt.title(\"Fittest Line\")\n",
    "plt.plot(x, y, \"go\")\n",
    "plt.plot(x, line)\n",
    "plt.show()"
   ]
  },
  {
   "cell_type": "markdown",
   "metadata": {},
   "source": [
    "Let's see how the error level changes through the iterations."
   ]
  },
  {
   "cell_type": "code",
   "execution_count": 6,
   "metadata": {},
   "outputs": [
    {
     "data": {
      "image/png": "[encoded data removed]",
      "text/plain": [
       "<matplotlib.figure.Figure at 0x1fc17207908>"
      ]
     },
     "metadata": {},
     "output_type": "display_data"
    }
   ],
   "source": [
    "# python library for plotting\n",
    "import matplotlib.pylab as plt\n",
    "\n",
    "# iteration count\n",
    "N = 30\n",
    "\n",
    "# learning rate\n",
    "eta = 0.01\n",
    "\n",
    "# initial values\n",
    "m = b = 0\n",
    "\n",
    "# lists to keep the error and the iteration values.\n",
    "errors = []\n",
    "Ns = []\n",
    "\n",
    "# Let's start iterating\n",
    "for i in range(N):\n",
    "    errors.append(computeError(m, b))\n",
    "    Ns.append(i)\n",
    "    m, b = gradientStep(eta, m, b)\n",
    "# end of for loop\n",
    "\n",
    "# drawing of graph.\n",
    "plt.title(\"Error distribution for %s iteration\" % N)\n",
    "plt.ylabel(\"Error\")\n",
    "plt.xlabel(\"Iteration\")\n",
    "plt.plot(Ns, errors)\n",
    "plt.show()"
   ]
  },
  {
   "cell_type": "markdown",
   "metadata": {},
   "source": [
    "It is obvious that we can carry out a few optimization for the GD algorithm. For example, extending the steps of GD. This idea leads us to the notion of momentum.\n",
    "\n",
    "## Gradient Descent with momentum\n",
    "\n",
    "We are going to denote $\\eta$ as $\\alpha$ now on and for momentum calculation, we have to do a few modification in GD equation.\n",
    "\n",
    "$p$ will denote the momentum;\n",
    "\n",
    "\\begin{align}\n",
    "& p_{\\tau} = \\nabla E(m_{\\tau-1}) + \\beta p_{\\tau-1} \\\\\n",
    "& m_{\\tau} = m_{\\tau-1} - \\alpha p_{\\tau} \\\\\n",
    "& m_{\\tau} = m_{\\tau-1} - \\alpha \\left( \\nabla E(m_{\\tau-1}) + \\beta p_{\\tau-1} \\right)\n",
    "\\end{align}\n",
    "\n",
    "------------------------------------------\n",
    "\\begin{align}\n",
    "& p_{\\tau} = \\nabla E(b_{\\tau-1}) + \\beta p_{\\tau-1} \\\\\n",
    "& b_{\\tau} = b_{\\tau-1} - \\alpha p_{\\tau} \\\\\n",
    "& b_{\\tau} = b_{\\tau-1} - \\alpha \\left( \\nabla E(b_{\\tau-1}) + \\beta p_{\\tau-1} \\right) \\\\\n",
    "\\end{align}\n",
    "\n",
    "$\\beta$ will be our momentum coefficient. When $\\beta=0$, we recover GD."
   ]
  },
  {
   "cell_type": "code",
   "execution_count": 7,
   "metadata": {
    "scrolled": false
   },
   "outputs": [
    {
     "name": "stdout",
     "output_type": "stream",
     "text": [
      "0 \t error: 60.01569999999999\n",
      "10 \t error: 32.94127110737379\n",
      "20 \t error: 14.501623737861456\n",
      "30 \t error: 5.786070865606438\n",
      "40 \t error: 2.5509966153706385\n",
      "50 \t error: 1.5774154763500476\n",
      "60 \t error: 1.338840949345472\n",
      "70 \t error: 1.288118708474226\n",
      "80 \t error: 1.2736507445172964\n",
      "90 \t error: 1.2651044588940537\n",
      "100 \t error: 1.2590759027871392\n"
     ]
    },
    {
     "data": {
      "image/png": "[encoded data removed]",
      "text/plain": [
       "<matplotlib.figure.Figure at 0x1fc17207470>"
      ]
     },
     "metadata": {},
     "output_type": "display_data"
    }
   ],
   "source": [
    "def momentumM(m, b, p_m, beta):\n",
    "    gradient_m = gradientM(m, b)\n",
    "    momentum_m = gradient_m + beta * p_m\n",
    "    return momentum_m\n",
    "# end of def momentumM\n",
    "\n",
    "def momentumB(m, b, p_b, beta):\n",
    "    gradient_b = gradientB(m, b)\n",
    "    momentum_b = gradient_b + beta * p_b\n",
    "    return momentum_b\n",
    "# end of def momentumB\n",
    "\n",
    "def gradientStepWithMomentum(alpha, m, b, p_m0, p_b0, beta):\n",
    "    # compute the momentum values of m and b\n",
    "    p_m = momentumM(m, b, p_m0, beta)\n",
    "    p_b = momentumB(m, b, p_b0, beta)\n",
    "    \n",
    "    # compute new values of m and b\n",
    "    m = m - alpha * p_m\n",
    "    b = b - alpha * p_b\n",
    "    \n",
    "    return m, b, p_m, p_b\n",
    "# end of def gradientStepWithMomentum\n",
    "\n",
    "# iteration count\n",
    "N = 101\n",
    "\n",
    "# learning rate\n",
    "alpha = 0.01\n",
    "\n",
    "# momentum coefficient\n",
    "beta = 0.9\n",
    "\n",
    "# initial values\n",
    "m = b = 0\n",
    "p_m = p_b = 1\n",
    "\n",
    "# lists to keep the error and the iteration values.\n",
    "errors = []\n",
    "Ns = []\n",
    "\n",
    "# Let's start iterating\n",
    "for i in range(N):\n",
    "    # append these value for plotting grapghic\n",
    "    errors.append(computeError(m, b))\n",
    "    Ns.append(i)\n",
    "    \n",
    "    if i % 10 == 0:\n",
    "        print(i, \"\\t error:\", computeError(m, b))\n",
    "        \n",
    "    m, b, p_m, p_b = gradientStepWithMomentum(alpha, m, b, p_m, p_b, beta)\n",
    "# end of for loop\n",
    "\n",
    "# drawing of graph.\n",
    "plt.title(\"Error distribution for %s iteration\" % N)\n",
    "plt.ylabel(\"Error\")\n",
    "plt.xlabel(\"Iteration\")\n",
    "plt.plot(Ns, errors)\n",
    "plt.show()"
   ]
  },
  {
   "cell_type": "markdown",
   "metadata": {},
   "source": [
    "## Gradient Descent with adaptive alpha"
   ]
  },
  {
   "cell_type": "code",
   "execution_count": 9,
   "metadata": {},
   "outputs": [
    {
     "name": "stdout",
     "output_type": "stream",
     "text": [
      "0 \t error: 60.01569999999999\n",
      "10 \t error: 3.934350308414748\n",
      "20 \t error: 6.90880324724523\n",
      "30 \t error: 7.393997601591168\n",
      "40 \t error: 4.72413001453322\n",
      "50 \t error: 3.129228958275091\n",
      "60 \t error: 2.5057963081608374\n",
      "70 \t error: 2.0123751845498736\n",
      "80 \t error: 1.7734996712392657\n",
      "90 \t error: 1.76418748811383\n",
      "100 \t error: 1.6437117355804072\n"
     ]
    },
    {
     "data": {
      "image/png": "[encoded data removed]",
      "text/plain": [
       "<matplotlib.figure.Figure at 0x1fc17207400>"
      ]
     },
     "metadata": {},
     "output_type": "display_data"
    }
   ],
   "source": [
    "import math\n",
    "\n",
    "def momentumM(m, b, p_m, beta):\n",
    "    gradient_m = gradientM(m, b)\n",
    "    momentum_m = gradient_m + beta * p_m\n",
    "    return momentum_m\n",
    "# end of def momentumM\n",
    "\n",
    "def momentumB(m, b, p_b, beta):\n",
    "    gradient_b = gradientB(m, b)\n",
    "    momentum_b = gradient_b + beta * p_b\n",
    "    return momentum_b\n",
    "# end of def momentumB\n",
    "\n",
    "def gradientStepWithMomentum(alpha, m, b, p_m0, p_b0, beta):\n",
    "    # compute the momentum values of m and b\n",
    "    p_m = momentumM(m, b, p_m0, beta)\n",
    "    p_b = momentumB(m, b, p_b0, beta)\n",
    "    \n",
    "    # compute new values of m and b\n",
    "    m = m - alpha * p_m\n",
    "    b = b - alpha * p_b\n",
    "    \n",
    "    return m, b, p_m, p_b\n",
    "# end of def gradientStepWithMomentum\n",
    "\n",
    "def adaptAlpha(currentError, prevError, alpha):\n",
    "    newAlpha = alpha\n",
    "    if currentError > prevError:\n",
    "        newAlpha = alpha * 0.9\n",
    "    else:\n",
    "        newAlpha = alpha * 1.1\n",
    "    return newAlpha\n",
    "# end of def adaptAlpha\n",
    "\n",
    "# iteration count\n",
    "N = 101\n",
    "\n",
    "# learning rate\n",
    "alpha = 0.001\n",
    "\n",
    "# momentum coefficient\n",
    "beta = 0.9\n",
    "\n",
    "# initial values\n",
    "m = b = 0\n",
    "p_m = p_b = 1\n",
    "\n",
    "# lists to keep the error and the iteration values.\n",
    "errors = []\n",
    "Ns = []\n",
    "\n",
    "# keeps previous error value.\n",
    "prevError = math.inf\n",
    "\n",
    "# Let's start iterating\n",
    "for i in range(N):\n",
    "    # compute current error value\n",
    "    currentError = computeError(m, b)\n",
    "    \n",
    "    # append these value for plotting grapghic\n",
    "    errors.append(currentError)\n",
    "    Ns.append(i)\n",
    "    \n",
    "    # adapt alpha\n",
    "    if i > 0:\n",
    "        alpha = adaptAlpha(currentError, prevError, alpha)\n",
    "    prevError = currentError\n",
    "    \n",
    "    if i % 10 == 0:\n",
    "        print(i, \"\\t error:\", currentError)\n",
    "        \n",
    "    m, b, p_m, p_b = gradientStepWithMomentum(alpha, m, b, p_m, p_b, beta)\n",
    "# end of for loop\n",
    "\n",
    "# drawing of graph.\n",
    "plt.title(\"Error distribution for %s iteration\" % N)\n",
    "plt.ylabel(\"Error\")\n",
    "plt.xlabel(\"Iteration\")\n",
    "plt.plot(Ns, errors)\n",
    "plt.show()"
   ]
  },
  {
   "cell_type": "markdown",
   "metadata": {},
   "source": [
    "### References\n",
    "* [github notes](https://github.com/atcemgil/notes/blob/master/GradientDescent.ipynb), Ali Taylan Cemgil, Bogaziçi University, İstanbul, Turkey"
   ]
  }
 ],
 "metadata": {
  "kernelspec": {
   "display_name": "Python 3",
   "language": "python",
   "name": "python3"
  },
  "language_info": {
   "codemirror_mode": {
    "name": "ipython",
    "version": 3
   },
   "file_extension": ".py",
   "mimetype": "text/x-python",
   "name": "python",
   "nbconvert_exporter": "python",
   "pygments_lexer": "ipython3",
   "version": "3.6.2"
  }
 },
 "nbformat": 4,
 "nbformat_minor": 2
}
