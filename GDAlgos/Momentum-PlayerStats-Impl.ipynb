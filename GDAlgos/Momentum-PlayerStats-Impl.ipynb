{
 "cells": [
  {
   "cell_type": "code",
   "execution_count": 1,
   "metadata": {
    "collapsed": true
   },
   "outputs": [],
   "source": [
    "from IPython.display import Image"
   ]
  },
  {
   "cell_type": "markdown",
   "metadata": {},
   "source": [
    "# Momentum\n",
    "\n",
    "! [title](img/mementum/momentumd.png)\n",
    "\n",
    "\n",
    "Here’s a popular story about momentum [1, 2, 3]: gradient descent is a man walking down a hill. He follows the steepest path downwards; his progress is slow, but steady. Momentum is a heavy ball rolling down the same hill. The added inertia acts both as a smoother and an accelerator, dampening oscillations and causing us to barrel through narrow valleys, small humps and local minima.\n",
    "\n",
    "This standard story isn’t wrong, but it fails to explain many important behaviors of momentum. In fact, momentum can be understood far more precisely if we study it on the right model.\n",
    "\n",
    "One nice model is the convex quadratic. This model is rich enough to reproduce momentum’s local dynamics in real problems, and yet simple enough to be understood in closed form. This balance gives us powerful traction for understanding this algorithm."
   ]
  },
  {
   "cell_type": "code",
   "execution_count": 5,
   "metadata": {
    "collapsed": true
   },
   "outputs": [],
   "source": [
    "import pandas as pd\n",
    "import numpy as np\n",
    "import matplotlib.pyplot as plt\n",
    "import math\n",
    "import random\n",
    "import time\n",
    "from IPython.core.debugger import Tracer;"
   ]
  },
  {
   "cell_type": "code",
   "execution_count": 6,
   "metadata": {
    "collapsed": true
   },
   "outputs": [],
   "source": [
    "dataset = pd.read_csv(\"HLTVData/playerStats.csv\")\n"
   ]
  },
  {
   "cell_type": "code",
   "execution_count": 7,
   "metadata": {},
   "outputs": [
    {
     "data": {
      "text/html": [
       "<div>\n",
       "<style>\n",
       "    .dataframe thead tr:only-child th {\n",
       "        text-align: right;\n",
       "    }\n",
       "\n",
       "    .dataframe thead th {\n",
       "        text-align: left;\n",
       "    }\n",
       "\n",
       "    .dataframe tbody tr th {\n",
       "        vertical-align: top;\n",
       "    }\n",
       "</style>\n",
       "<table border=\"1\" class=\"dataframe\">\n",
       "  <thead>\n",
       "    <tr style=\"text-align: right;\">\n",
       "      <th></th>\n",
       "      <th>Map</th>\n",
       "      <th>Player</th>\n",
       "      <th>Kills</th>\n",
       "      <th>Deaths</th>\n",
       "      <th>ADR</th>\n",
       "      <th>KAST%</th>\n",
       "      <th>Rating</th>\n",
       "      <th>MatchID</th>\n",
       "    </tr>\n",
       "  </thead>\n",
       "  <tbody>\n",
       "    <tr>\n",
       "      <th>0</th>\n",
       "      <td>Nuke</td>\n",
       "      <td>4216</td>\n",
       "      <td>22</td>\n",
       "      <td>19</td>\n",
       "      <td>85.0</td>\n",
       "      <td>69.0</td>\n",
       "      <td>1.17</td>\n",
       "      <td>2311133/binary-dragons-vs-alpha-binary-dragons...</td>\n",
       "    </tr>\n",
       "    <tr>\n",
       "      <th>1</th>\n",
       "      <td>Nuke</td>\n",
       "      <td>3543</td>\n",
       "      <td>26</td>\n",
       "      <td>23</td>\n",
       "      <td>83.5</td>\n",
       "      <td>58.6</td>\n",
       "      <td>1.10</td>\n",
       "      <td>2311133/binary-dragons-vs-alpha-binary-dragons...</td>\n",
       "    </tr>\n",
       "    <tr>\n",
       "      <th>2</th>\n",
       "      <td>Nuke</td>\n",
       "      <td>3972</td>\n",
       "      <td>20</td>\n",
       "      <td>23</td>\n",
       "      <td>78.2</td>\n",
       "      <td>75.9</td>\n",
       "      <td>1.02</td>\n",
       "      <td>2311133/binary-dragons-vs-alpha-binary-dragons...</td>\n",
       "    </tr>\n",
       "    <tr>\n",
       "      <th>3</th>\n",
       "      <td>Nuke</td>\n",
       "      <td>2476</td>\n",
       "      <td>17</td>\n",
       "      <td>20</td>\n",
       "      <td>68.1</td>\n",
       "      <td>79.3</td>\n",
       "      <td>0.97</td>\n",
       "      <td>2311133/binary-dragons-vs-alpha-binary-dragons...</td>\n",
       "    </tr>\n",
       "    <tr>\n",
       "      <th>4</th>\n",
       "      <td>Nuke</td>\n",
       "      <td>2299</td>\n",
       "      <td>17</td>\n",
       "      <td>20</td>\n",
       "      <td>66.3</td>\n",
       "      <td>65.5</td>\n",
       "      <td>0.86</td>\n",
       "      <td>2311133/binary-dragons-vs-alpha-binary-dragons...</td>\n",
       "    </tr>\n",
       "  </tbody>\n",
       "</table>\n",
       "</div>"
      ],
      "text/plain": [
       "    Map  Player  Kills  Deaths   ADR  KAST%  Rating  \\\n",
       "0  Nuke    4216     22      19  85.0   69.0    1.17   \n",
       "1  Nuke    3543     26      23  83.5   58.6    1.10   \n",
       "2  Nuke    3972     20      23  78.2   75.9    1.02   \n",
       "3  Nuke    2476     17      20  68.1   79.3    0.97   \n",
       "4  Nuke    2299     17      20  66.3   65.5    0.86   \n",
       "\n",
       "                                             MatchID  \n",
       "0  2311133/binary-dragons-vs-alpha-binary-dragons...  \n",
       "1  2311133/binary-dragons-vs-alpha-binary-dragons...  \n",
       "2  2311133/binary-dragons-vs-alpha-binary-dragons...  \n",
       "3  2311133/binary-dragons-vs-alpha-binary-dragons...  \n",
       "4  2311133/binary-dragons-vs-alpha-binary-dragons...  "
      ]
     },
     "execution_count": 7,
     "metadata": {},
     "output_type": "execute_result"
    }
   ],
   "source": [
    "dataset.head()"
   ]
  },
  {
   "cell_type": "code",
   "execution_count": 8,
   "metadata": {
    "collapsed": true
   },
   "outputs": [],
   "source": [
    "#mat = dataset.as_matrix()\n",
    "#dataADR = dataset['ADR']\n",
    "#dataRaiting = dataset['Rating']\n",
    "#indexMatrix = np.array(range(dataset.shape[0]))"
   ]
  },
  {
   "cell_type": "code",
   "execution_count": 9,
   "metadata": {},
   "outputs": [
    {
     "data": {
      "text/html": [
       "<div>\n",
       "<style>\n",
       "    .dataframe thead tr:only-child th {\n",
       "        text-align: right;\n",
       "    }\n",
       "\n",
       "    .dataframe thead th {\n",
       "        text-align: left;\n",
       "    }\n",
       "\n",
       "    .dataframe tbody tr th {\n",
       "        vertical-align: top;\n",
       "    }\n",
       "</style>\n",
       "<table border=\"1\" class=\"dataframe\">\n",
       "  <thead>\n",
       "    <tr style=\"text-align: right;\">\n",
       "      <th></th>\n",
       "      <th>ADR</th>\n",
       "      <th>Rating</th>\n",
       "    </tr>\n",
       "  </thead>\n",
       "  <tbody>\n",
       "    <tr>\n",
       "      <th>0</th>\n",
       "      <td>85.0</td>\n",
       "      <td>117.0</td>\n",
       "    </tr>\n",
       "    <tr>\n",
       "      <th>1</th>\n",
       "      <td>83.5</td>\n",
       "      <td>110.0</td>\n",
       "    </tr>\n",
       "    <tr>\n",
       "      <th>2</th>\n",
       "      <td>78.2</td>\n",
       "      <td>102.0</td>\n",
       "    </tr>\n",
       "    <tr>\n",
       "      <th>3</th>\n",
       "      <td>68.1</td>\n",
       "      <td>97.0</td>\n",
       "    </tr>\n",
       "    <tr>\n",
       "      <th>4</th>\n",
       "      <td>66.3</td>\n",
       "      <td>86.0</td>\n",
       "    </tr>\n",
       "  </tbody>\n",
       "</table>\n",
       "</div>"
      ],
      "text/plain": [
       "    ADR  Rating\n",
       "0  85.0   117.0\n",
       "1  83.5   110.0\n",
       "2  78.2   102.0\n",
       "3  68.1    97.0\n",
       "4  66.3    86.0"
      ]
     },
     "execution_count": 9,
     "metadata": {},
     "output_type": "execute_result"
    }
   ],
   "source": [
    "dataSet = pd.read_csv(\"HLTVData/playerStats.csv\",usecols=['ADR','Rating'])\n",
    "dataSet['Rating'] = dataSet['Rating']*100\n",
    "dataSet.head()"
   ]
  },
  {
   "cell_type": "code",
   "execution_count": 10,
   "metadata": {
    "collapsed": true
   },
   "outputs": [],
   "source": [
    "#dataSet['Rating'] = dataSet['Rating']*100\n",
    "#dataSet.head()"
   ]
  },
  {
   "cell_type": "code",
   "execution_count": 11,
   "metadata": {
    "collapsed": true
   },
   "outputs": [],
   "source": [
    "#this never worked\n",
    "#4 is the ADR and 6 is the Rating\n",
    "#s = pd.DataFrame(dataset, index=indexMatrix,columns=(mat[:,4],mat[:,6]) )\n",
    "#s = pd.DataFrame(dataset, index=np.array(range(dataset.shape[0])), columns=dataset['ADR'])"
   ]
  },
  {
   "cell_type": "code",
   "execution_count": 12,
   "metadata": {
    "scrolled": true
   },
   "outputs": [
    {
     "data": {
      "image/png": "[encoded data removed]",
      "text/plain": [
       "<matplotlib.figure.Figure at 0x7ff06c07bf98>"
      ]
     },
     "metadata": {},
     "output_type": "display_data"
    }
   ],
   "source": [
    "X= np.array(dataSet['ADR'])\n",
    "y = np.array(dataSet['Rating'])\n",
    "plt.scatter(X,y)\n",
    "plt.xlabel('ADR')\n",
    "plt.ylabel('Rating')\n",
    "plt.show()"
   ]
  },
  {
   "cell_type": "code",
   "execution_count": 13,
   "metadata": {},
   "outputs": [
    {
     "data": {
      "text/plain": [
       "83.5"
      ]
     },
     "execution_count": 13,
     "metadata": {},
     "output_type": "execute_result"
    }
   ],
   "source": [
    "data = np.array(dataSet)\n",
    "data\n",
    "data[1,0]"
   ]
  },
  {
   "cell_type": "code",
   "execution_count": 14,
   "metadata": {
    "collapsed": true
   },
   "outputs": [],
   "source": [
    "def SSE(m,b,data):\n",
    "    totalError=0.0\n",
    "    totalNan = 0\n",
    "    for i in range(data.shape[0]):\n",
    "        if(math.isnan(data[i,0])):\n",
    "            totalNan +=1\n",
    "        else:\n",
    "            yOutput = m*data[i,0]+b\n",
    "            y = data[i,1]\n",
    "            error = (y-yOutput)**2\n",
    "            totalError =totalError+ error\n",
    "    return totalError\n",
    "        "
   ]
  },
  {
   "cell_type": "code",
   "execution_count": 41,
   "metadata": {},
   "outputs": [
    {
     "data": {
      "image/png": "[encoded data removed]",
      "text/plain": [
       "<matplotlib.figure.Figure at 0x7ff067fe2cf8>"
      ]
     },
     "metadata": {},
     "output_type": "display_data"
    }
   ],
   "source": [
    "m = 5\n",
    "b = 4\n",
    "plt.scatter(X,y)\n",
    "plt.plot(X,m*X+b,color='red')\n",
    "plt.show()"
   ]
  },
  {
   "cell_type": "code",
   "execution_count": 42,
   "metadata": {},
   "outputs": [
    {
     "name": "stdout",
     "output_type": "stream",
     "text": [
      "For the fitting line: y = 5x + 4\n",
      "SSE: 14663066056.50\n"
     ]
    }
   ],
   "source": [
    "sse = SSE(m,b,data)\n",
    "print('For the fitting line: y = %sx + %s\\nSSE: %.2f' %(m,b,sse))"
   ]
  },
  {
   "cell_type": "markdown",
   "metadata": {},
   "source": [
    "Momentum proposes the following tweak to gradient descent. We give gradient descent a short-term memory:\n",
    "\\begin{aligned} z^{k+1}&=\\beta z^{k}+\\nabla f(w^{k})\\\\[0.4em] w^{k+1}&=w^{k}-\\alpha z^{k+1} \\end{aligned}\n",
    "​z\n",
    "​k+1\n",
    "​​ \n",
    "​w\n",
    "​k+1\n",
    "​​ \n",
    "​​ \n",
    "​=βz\n",
    "​k\n",
    "​​ +∇f(w\n",
    "​k\n",
    "​​ )\n",
    "​=w\n",
    "​k\n",
    "​​ −αz\n",
    "​k+1\n",
    "​​ \n",
    "​​ \n",
    "The change is innocent, and costs almost nothing. When \\beta = 0β=0 , we recover gradient descent. But for \\beta = 0.99β=0.99 (sometimes 0.9990.999, if things are really bad), this appears to be the boost we need. Our iterations regain that speed and boldness it lost, speeding to the optimum with a renewed energy.\n",
    "\n",
    "\n"
   ]
  },
  {
   "cell_type": "code",
   "execution_count": 80,
   "metadata": {
    "collapsed": true
   },
   "outputs": [],
   "source": [
    "z_m =0.0 #initilise to 0\n",
    "z_b =0.0 #initilise to 0\n",
    "def getGradient(m,b,data_sample):\n",
    "    global z_m\n",
    "    global z_b\n",
    "    n_points = data_sample.shape[0] #size of data\n",
    "    m_grad = 0\n",
    "    b_grad = 0\n",
    "    stepper = 0.0001 #this is the learning rate\n",
    "\n",
    "    betha = 0.81\n",
    "    \n",
    "    for i in range(n_points):\n",
    "\n",
    "        #Get current pair (x,y)\n",
    "        x = data_sample[i,0]\n",
    "        y = data_sample[i,1]\n",
    "        if(math.isnan(x)|math.isnan(y)): #it will prevent for crashing when some data is missing\n",
    "            #print(\"is nan\")\n",
    "            continue\n",
    "        \n",
    "        #you will calculate the partical derivative for each value in data\n",
    "        #Partial derivative respect 'm'\n",
    "        dm = -((2/n_points) * x * (y - (m*x + b)))\n",
    "        \n",
    "        #Partial derivative respect 'b'\n",
    "        db = - ((2/n_points) * (y - (m*x + b)))\n",
    "       \n",
    "        \n",
    "        #Update gradient\n",
    "        m_grad = m_grad + dm\n",
    "        b_grad = b_grad + db\n",
    "        \n",
    "    \n",
    "    return m_grad,b_grad\n",
    "\n",
    "def calculateMomentum(m_grad,b_grad,betha=0.81,stepper=0.0001):\n",
    "    global z_m,z_b\n",
    "    #calculate the momentum\n",
    "    z_m = betha*z_m + m_grad\n",
    "    z_b = betha*z_b + b_grad\n",
    "    #Set the new 'better' updated 'm' and 'b'   \n",
    "    m_updated = m - stepper*z_m\n",
    "    b_updated = b - stepper*z_b\n",
    "    return m_updated,b_updated   "
   ]
  },
  {
   "cell_type": "markdown",
   "metadata": {},
   "source": [
    "the diference beetween Gradient Descent, Stolchastich Gradient Descent and Mini-batch Gradient Descent is the next:\n",
    "\n",
    "Gradient Descent: You take all the data to compute the gradient.\n",
    "\n",
    "Stochastic Gradient Descent: You only take 1 point to compute the gradient (the bath size is 1) It is faster than Gradient Descent but is to noisy and is afected for the data variance.\n",
    "\n",
    "Mini-Batch Gradient Descent: you take n points (n< data_size) to compute the gradient. Normally you take n aleatory points. \n",
    "\n",
    "As note if you take in Mini-batch gradient descent n==data_size you will be computing normal gradient descent. \n",
    "The difference between Stochastic Gradient Descent and Mini-batch Gradient descent is the size we take for computing the gradient.\n",
    "\n",
    "As you can see in the example bellow I add the first condition to return a sigle random row from the data if the batch_size is equal to 1. But is just for recall the point in the code about the difference between SGD and mini-batch GD. If you analize the code, you can delete the first two line of code and the algorith will result the same for SGD, because if you choose the batch_size equal to 1 it becomes in SGD"
   ]
  },
  {
   "cell_type": "code",
   "execution_count": 81,
   "metadata": {
    "collapsed": true
   },
   "outputs": [],
   "source": [
    "def getSmallRandomDataSample(data, batch_size, shuffle=True): #this method only covers the solution when suffle is true\n",
    "    #stolchastic gradient descent\n",
    "    \n",
    "    #it will take tha batch of size 1, Im just putting this here so you can see the difference. You can delete the next \n",
    "    #two lines and it will work.\n",
    "    if(batch_size==1):\n",
    "        return np.array([random.choice(data)])\n",
    "    #mini-batch gradient descent\n",
    "    if(batch_size< data.shape[0]):\n",
    "        if(shuffle):\n",
    "            #the first two line are simulating like if we were choosing randomly points from the data\n",
    "            index = np.random.permutation(data.shape[0]) #first suffle the index of data\n",
    "            index = index[0:batch_size] #then we take the batch \n",
    "            #algorithm for getting the sample_data\n",
    "            data_sample=[]\n",
    "            for i in index:\n",
    "                data_sample.append(data[i])\n",
    "            return np.array(data_sample)\n",
    "   \n",
    "            "
   ]
  },
  {
   "cell_type": "code",
   "execution_count": 82,
   "metadata": {
    "scrolled": true
   },
   "outputs": [
    {
     "name": "stdout",
     "output_type": "stream",
     "text": [
      "Starting line: y = 5.00x + 4.00 - Error: 67127618.19\n",
      "z_b  533.9\n",
      "z_m  41099.282\n",
      "time consumtion =  0.6455578804016113\n",
      "iteration  0\n",
      "z_b  207.523012741\n",
      "z_m  14082.3484191\n",
      "time consumtion =  3.692289352416992\n",
      "iteration  10\n",
      "z_b  81.9541006667\n",
      "z_m  5954.13127756\n",
      "time consumtion =  3.8415212631225586\n",
      "iteration  20\n",
      "z_b  31.5052701207\n",
      "z_m  2064.61030465\n",
      "time consumtion =  3.9790899753570557\n",
      "iteration  30\n",
      "z_b  28.8918359589\n",
      "z_m  1192.18872511\n",
      "time consumtion =  3.752521514892578\n",
      "iteration  40\n",
      "z_b  14.0764837221\n",
      "z_m  71.4890311602\n",
      "time consumtion =  4.1580400466918945\n",
      "iteration  50\n",
      "z_b  6.52400708385\n",
      "z_m  -86.548823165\n",
      "time consumtion =  3.905444622039795\n",
      "iteration  60\n",
      "z_b  3.166583046\n",
      "z_m  -613.683733109\n",
      "time consumtion =  4.192258834838867\n",
      "iteration  70\n",
      "z_b  -15.468348562\n",
      "z_m  -1843.96690879\n",
      "time consumtion =  3.9477293491363525\n",
      "iteration  80\n",
      "z_b  -3.59713010852\n",
      "z_m  -1181.7091651\n",
      "time consumtion =  3.5172154903411865\n",
      "iteration  90\n",
      "\n",
      "Best  line: y = 1.40x + 3.83 - Error: 56729062.73\n"
     ]
    }
   ],
   "source": [
    "m = 5\n",
    "b = 4\n",
    "max_epochs = 100\n",
    "print('Starting line: y = %.2fx + %.2f - Error: %.2f' %(m,b,sse))\n",
    "start = time.time()\n",
    "for i in range(max_epochs):\n",
    "    data_sample = getSmallRandomDataSample(data,50)\n",
    "    m_grad,b_grad = getGradient(m,b,data_sample)\n",
    "    m,b = calculateMomentum(m_grad,b_grad)\n",
    "    sse = SSE(m,b,data)\n",
    "    if(i%10==0):\n",
    "        print(\"z_b \", z_b)\n",
    "        print(\"z_m \", z_m)\n",
    "        end = time.time()\n",
    "        print('time consumtion = ',end-start)\n",
    "        print('iteration ', i)\n",
    "        start = time.time()\n",
    "    #print('At step %d - Line: y = %.2fx + %.2f - Error: %.2f' %(i+1,m,b,sse))\n",
    "print('\\nBest  line: y = %.2fx + %.2f - Error: %.2f' %(m,b,sse))\n"
   ]
  },
  {
   "cell_type": "code",
   "execution_count": 83,
   "metadata": {
    "scrolled": true
   },
   "outputs": [
    {
     "name": "stdout",
     "output_type": "stream",
     "text": [
      "m  1.39603732216\n",
      "b  3.8299466007\n"
     ]
    },
    {
     "data": {
      "image/png": "[encoded data removed]",
      "text/plain": [
       "<matplotlib.figure.Figure at 0x7ff0aaed4898>"
      ]
     },
     "metadata": {},
     "output_type": "display_data"
    }
   ],
   "source": [
    "print ('m ', m)\n",
    "print('b ', b)\n",
    "plt.scatter(X,y)\n",
    "plt.plot(X,m*X+b,color='red')\n",
    "plt.show()"
   ]
  },
  {
   "cell_type": "code",
   "execution_count": 50,
   "metadata": {
    "collapsed": true
   },
   "outputs": [],
   "source": [
    "#this is to undertand what a permutation does.\n",
    "#a = np.random.permutation(100)\n",
    "#a.sort(kind='quicksort')\n",
    "#a"
   ]
  },
  {
   "cell_type": "code",
   "execution_count": 21,
   "metadata": {
    "collapsed": true
   },
   "outputs": [],
   "source": [
    "#for gradient descent m = 1.4 , b = 0.77\n",
    "#for SGD m = m  1.33361120453 , b =  3.71735648458\n",
    "#for SGD batch=1  m  1.33361120453 , b =  3.71735648458 It has been the best line"
   ]
  }
 ],
 "metadata": {
  "kernelspec": {
   "display_name": "Python 3",
   "language": "python",
   "name": "python3"
  },
  "language_info": {
   "codemirror_mode": {
    "name": "ipython",
    "version": 3
   },
   "file_extension": ".py",
   "mimetype": "text/x-python",
   "name": "python",
   "nbconvert_exporter": "python",
   "pygments_lexer": "ipython3",
   "version": "3.5.3"
  }
 },
 "nbformat": 4,
 "nbformat_minor": 2
}
