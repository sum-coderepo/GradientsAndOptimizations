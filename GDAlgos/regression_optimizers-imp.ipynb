{
 "cells": [
  {
   "cell_type": "code",
   "execution_count": 265,
   "metadata": {
    "collapsed": true
   },
   "outputs": [],
   "source": [
    "import numpy as np\n",
    "import matplotlib.pyplot as plt"
   ]
  },
  {
   "cell_type": "code",
   "execution_count": 266,
   "metadata": {
    "collapsed": true
   },
   "outputs": [],
   "source": [
    "def h(a,b,x): #hypothesis function\n",
    "    return a*x+b\n",
    "\n",
    "def mse(a,b,x,y): #loss function\n",
    "    return np.mean((h(a,b,x) - y)**2)\n",
    "\n",
    "def gradient(a,b,x,y): #mse derivatives\n",
    "    return np.mean(x*(a*x+b-y), axis=-1), np.mean(a*x+b-y, axis=-1)\n",
    "\n",
    "def generate_data(nb): #generate data with noise\n",
    "    x = np.array([])\n",
    "    y = np.array([])\n",
    "    for i in range(nb):\n",
    "        x = np.insert(x, len(x), i)\n",
    "        y = np.insert(y, len(y), i/2 + np.random.rand()*20)\n",
    "    return x,y\n",
    "\n",
    "def shuffle(x,y):\n",
    "    s = np.arange(len(x))\n",
    "    np.random.shuffle(s)\n",
    "    return x[s], y[s]"
   ]
  },
  {
   "cell_type": "code",
   "execution_count": 267,
   "metadata": {
    "collapsed": true
   },
   "outputs": [],
   "source": [
    "def vanilla_gradient_descent(a,b,x,y,lr=1e-5,epsilon=1e-4):\n",
    "    prev_error = 0\n",
    "    error = np.array([])\n",
    "    while True:\n",
    "        gradient_a, gradient_b = gradient(a,b,x,y)\n",
    "#         print(abs(mse(a, b, x, y) - prev_error))\n",
    "        if abs(mse(a, b, x, y) - prev_error) < epsilon:\n",
    "            break\n",
    "        prev_error = mse(a,b,x,y)\n",
    "        error = np.insert(error, len(error), prev_error)\n",
    "\n",
    "        a -= lr * gradient_a\n",
    "        b -= lr * gradient_b\n",
    "    return a, b, error"
   ]
  },
  {
   "cell_type": "code",
   "execution_count": 268,
   "metadata": {
    "collapsed": true
   },
   "outputs": [],
   "source": [
    "def momentum_gradient_descent(a,b,x,y,lr=1e-5,momentum=0.9,epsilon=1e-4, batch_size=0):\n",
    "    if batch_size == 0: batch_size = len(x)\n",
    "    prev_grad_a = 0\n",
    "    prev_grad_b = 0\n",
    "    prev_error = 0\n",
    "    error = np.array([])\n",
    "    while True:\n",
    "        x_shuffled, y_shuffled = shuffle(x,y)\n",
    "        gradient_a, gradient_b = gradient(a,b,x_shuffled[:batch_size],y_shuffled[:batch_size])\n",
    "#         print(abs(mse(a, b, x_shuffled, y_shuffled) - prev_error))\n",
    "        if abs(mse(a, b, x_shuffled, y_shuffled) - prev_error) < epsilon:\n",
    "            break\n",
    "        prev_error = mse(a,b,x_shuffled,y_shuffled)\n",
    "        error = np.insert(error, len(error), prev_error)\n",
    "\n",
    "        a -= lr * gradient_a + momentum * prev_grad_a\n",
    "        b -= lr * gradient_b + momentum * prev_grad_b\n",
    "        prev_grad_a = lr * gradient_a + momentum * prev_grad_a\n",
    "        prev_grad_b = lr * gradient_b + momentum * prev_grad_b\n",
    "    return a, b, error"
   ]
  },
  {
   "cell_type": "code",
   "execution_count": 269,
   "metadata": {
    "collapsed": true
   },
   "outputs": [],
   "source": [
    "def adagrad_gradient_descent(a, b, x, y, lr=1e-5, epsilon=1e-4):\n",
    "    prev_error = 0\n",
    "    adagrad_a = 0\n",
    "    adagrad_b = 0\n",
    "    error = np.array([])\n",
    "    while True:\n",
    "        gradient_a, gradient_b = gradient(a, b, x, y)\n",
    "#         print(abs(mse(a, b, x, y) - prev_error))\n",
    "        if abs(mse(a, b, x, y) - prev_error) < epsilon:\n",
    "            break\n",
    "        prev_error = mse(a, b, x, y)\n",
    "        error = np.insert(error, len(error), prev_error)\n",
    "\n",
    "        adagrad_a += gradient_a**2\n",
    "        adagrad_b += gradient_b**2\n",
    "        a -= (lr / (adagrad_a**0.5 + 1e-8)) * gradient_a\n",
    "        b -= (lr / (adagrad_b**0.5 + 1e-8)) * gradient_b\n",
    "    return a, b, error"
   ]
  },
  {
   "cell_type": "code",
   "execution_count": 270,
   "metadata": {
    "collapsed": true
   },
   "outputs": [],
   "source": [
    "def rmsprop_gradient_descent(a, b, x, y, lr=1e-5, gamma=0.9, epsilon=1e-4):\n",
    "    prev_error = 0\n",
    "    rmsprop_a = 0\n",
    "    rmsprop_b = 0\n",
    "    error = np.array([])\n",
    "    while True:\n",
    "        gradient_a, gradient_b = gradient(a, b, x, y)\n",
    "#         print(abs(mse(a, b, x, y) - prev_error))\n",
    "        if abs(mse(a, b, x, y) - prev_error) < epsilon:\n",
    "            break\n",
    "        prev_error = mse(a, b, x, y)\n",
    "        error = np.insert(error, len(error), prev_error)\n",
    "\n",
    "        rmsprop_a = gamma * rmsprop_a + (1-gamma) * (gradient_a**2)\n",
    "        rmsprop_b = gamma * rmsprop_b + (1-gamma) * (gradient_b**2)\n",
    "        a -= (lr / (rmsprop_a**0.5 + 1e-8)) * gradient_a\n",
    "        b -= (lr / (rmsprop_b**0.5 + 1e-8)) * gradient_b\n",
    "    return a, b, error"
   ]
  },
  {
   "cell_type": "code",
   "execution_count": 271,
   "metadata": {
    "collapsed": true
   },
   "outputs": [],
   "source": [
    "def adam_gradient_descent(a, b, x, y, lr=1e-5, b1=0.9, b2=0.999, epsilon=1e-4):\n",
    "    prev_error = 0\n",
    "    m_a = v_a = m_b = v_b = 0\n",
    "    moment_m_a = moment_v_a = moment_m_b = moment_v_b = 0\n",
    "    t = 0\n",
    "    error = np.array([])\n",
    "    while True:\n",
    "        gradient_a, gradient_b = gradient(a, b, x, y)\n",
    "#         print(abs(mse(a, b, x, y) - prev_error))\n",
    "        if abs(mse(a, b, x, y) - prev_error) < epsilon:\n",
    "            break\n",
    "        t += 1\n",
    "        prev_error = mse(a, b, x, y)\n",
    "        error = np.insert(error, len(error), prev_error)\n",
    "\n",
    "        m_a = b1 * m_a + (1-b1)*gradient_a\n",
    "        v_a = b2 * v_a + (1-b2)*gradient_a**2\n",
    "        m_b = b1 * m_b + (1-b1)*gradient_b\n",
    "        v_b = b2 * v_b + (1-b2)*gradient_b**2\n",
    "        moment_m_a = m_a / (1-b1**t)\n",
    "        moment_v_a = v_a / (1-b2**t)\n",
    "        moment_m_b = m_b / (1-b1**t)\n",
    "        moment_v_b = v_b / (1-b2**t)\n",
    "        a -= (lr*moment_m_a) / (moment_v_a**0.5 + 1e-8)\n",
    "        b -= (lr*moment_m_b) / (moment_v_b**0.5 + 1e-8)\n",
    "    return a, b, error"
   ]
  },
  {
   "cell_type": "code",
   "execution_count": 272,
   "metadata": {
    "collapsed": true
   },
   "outputs": [],
   "source": [
    "def adamax_gradient_descent(a, b, x, y, lr=1e-5, b1=0.9, b2=0.999, epsilon=1e-4):\n",
    "    prev_error = 0\n",
    "    m_a = u_a = m_b = u_b = 0\n",
    "    t = 0\n",
    "    error = np.array([])\n",
    "    while True:\n",
    "        gradient_a, gradient_b = gradient(a, b, x, y)\n",
    "#         print(abs(mse(a, b, x, y) - prev_error))\n",
    "        if abs(mse(a, b, x, y) - prev_error) < epsilon:\n",
    "            break\n",
    "        t += 1\n",
    "        prev_error = mse(a, b, x, y)\n",
    "        error = np.insert(error, len(error), prev_error)\n",
    "\n",
    "        m_a = b1*m_a + (1-b1)*gradient_a\n",
    "        u_a = max(b2*u_a, abs(gradient_a))\n",
    "        m_b = b1*m_b + (1-b1)*gradient_b\n",
    "        u_b = max(b2*u_b, abs(gradient_b))\n",
    "\n",
    "        a -= (lr / (1-(b1**t)))*(m_a/u_a)\n",
    "        b -= (lr / (1-(b1**t)))*(m_b/u_b)\n",
    "    return a, b, error"
   ]
  },
  {
   "cell_type": "code",
   "execution_count": 273,
   "metadata": {
    "collapsed": true
   },
   "outputs": [],
   "source": [
    "''' FIXME: better implementation '''\n",
    "def adadelta_gradient_descent(a, b, x, y, lr=1e-5, gamma=0.9, epsilon=1e-4):\n",
    "    prev_error = 0\n",
    "    gradient_squared_a = 0\n",
    "    gradient_squared_b = 0\n",
    "    v_a = v_b = 0\n",
    "    delta_a = 0\n",
    "    delta_b = 0\n",
    "    error = np.array([])\n",
    "    while True:\n",
    "        gradient_a, gradient_b = gradient(a, b, x, y)\n",
    "#         print(abs(mse(a, b, x, y) - prev_error))\n",
    "        if abs(mse(a, b, x, y) - prev_error) < epsilon:\n",
    "            break\n",
    "        prev_error = mse(a, b, x, y)\n",
    "        error = np.insert(error, len(error), prev_error)\n",
    "\n",
    "        gradient_squared_a = gamma * gradient_squared_a + (1-gamma) * (gradient_a**2)\n",
    "        gradient_squared_b = gamma * gradient_squared_b + (1-gamma) * (gradient_b**2)\n",
    "\n",
    "        delta_a = gamma * delta_a + (1-gamma) * (v_a**2)\n",
    "        delta_b = gamma * delta_b + (1-gamma) * (v_b**2)\n",
    "        v_a = -(gradient_a*delta_a**0.5 + 1e-8) / (gradient_squared_a**0.5 + 1e-8)\n",
    "        v_b = -(gradient_b*delta_b**0.5 + 1e-8) / (gradient_squared_b**0.5 + 1e-8)\n",
    "\n",
    "        a += v_a\n",
    "        b += v_b\n",
    "    return a, b, error"
   ]
  },
  {
   "cell_type": "code",
   "execution_count": 274,
   "metadata": {
    "collapsed": true
   },
   "outputs": [],
   "source": [
    "def nesterov_gradient_descent(a, b, x, y, lr=1e-5, gamma=0.9, epsilon=1e-4):\n",
    "    prev_error = 0\n",
    "    v_a = v_b = 0\n",
    "    error = np.array([])\n",
    "    while True:\n",
    "        a_tmp = a - gamma*v_a\n",
    "        b_tmp = b - gamma*v_b\n",
    "        gradient_a, gradient_b = gradient(a_tmp, b_tmp, x, y)\n",
    "#         print(abs(mse(a, b, x, y) - prev_error))\n",
    "        if abs(mse(a, b, x, y) - prev_error) < epsilon:\n",
    "            break\n",
    "        prev_error = mse(a, b, x, y)\n",
    "        error = np.insert(error, len(error), prev_error)\n",
    "\n",
    "        v_a = lr * gradient_a\n",
    "        v_b = lr * gradient_b\n",
    "\n",
    "        a -= v_a\n",
    "        b -= v_b\n",
    "    return a, b, error"
   ]
  },
  {
   "cell_type": "code",
   "execution_count": 275,
   "metadata": {
    "collapsed": true
   },
   "outputs": [],
   "source": [
    "def nadam_gradient_descent(a, b, x, y, lr=1e-5, b1=0.9, b2=0.999, epsilon=1e-4):\n",
    "    prev_error = 0\n",
    "    m_a = v_a = m_b = v_b = 0\n",
    "    moment_m_a = moment_v_a = moment_m_b = moment_v_b = 0\n",
    "    t = 0\n",
    "    error = np.array([])\n",
    "    while True:\n",
    "        gradient_a, gradient_b = gradient(a, b, x, y)\n",
    "#         print(abs(mse(a, b, x, y) - prev_error))\n",
    "        if abs(mse(a, b, x, y) - prev_error) < epsilon:\n",
    "            break\n",
    "        t += 1\n",
    "        prev_error = mse(a, b, x, y)\n",
    "        error = np.insert(error, len(error), prev_error)\n",
    "\n",
    "        m_a = b1 * m_a + (1-b1)*gradient_a\n",
    "        v_a = b2 * v_a + (1-b2)*gradient_a**2\n",
    "        m_b = b1 * m_b + (1-b1)*gradient_b\n",
    "        v_b = b2 * v_b + (1-b2)*gradient_b**2\n",
    "        moment_m_a = m_a / (1-b1**t)\n",
    "        moment_v_a = v_a / (1-b2**t)\n",
    "        moment_m_b = m_b / (1-b1**t)\n",
    "        moment_v_b = v_b / (1-b2**t)\n",
    "        a -= (lr / moment_v_a**0.5 + 1e-8) * (b1*moment_m_a + (1-b1)*gradient_a/(1-b1**t))\n",
    "        b -= (lr / moment_v_b**0.5 + 1e-8) * (b1*moment_m_b + (1-b1)*gradient_b/(1-b1**t))\n",
    "    return a, b, error"
   ]
  },
  {
   "cell_type": "code",
   "execution_count": 276,
   "metadata": {
    "collapsed": true
   },
   "outputs": [],
   "source": [
    "x, y = generate_data(1000)\n",
    "# normalization\n",
    "x -= np.mean(x)\n",
    "x /= np.std(x)\n",
    "y -= np.mean(y)\n",
    "y /= np.std(y)"
   ]
  },
  {
   "cell_type": "code",
   "execution_count": 277,
   "metadata": {
    "collapsed": true
   },
   "outputs": [],
   "source": [
    "regression_subplot = plt.subplot(221)\n",
    "error_subplot = plt.subplot(222)"
   ]
  },
  {
   "cell_type": "code",
   "execution_count": 278,
   "metadata": {
    "collapsed": true
   },
   "outputs": [],
   "source": [
    "a_0, b_0 = np.random.rand(), np.random.rand()"
   ]
  },
  {
   "cell_type": "code",
   "execution_count": 279,
   "metadata": {},
   "outputs": [
    {
     "name": "stdout",
     "output_type": "stream",
     "text": [
      "a = 0.999183815137 , b = 0.0187415065579\n"
     ]
    }
   ],
   "source": [
    "'''\n",
    "vanilla\n",
    "'''\n",
    "a, b, error = vanilla_gradient_descent(a_0, b_0, x, y, lr=1e-1)\n",
    "prediction = h(a,b,x)\n",
    "regression_subplot.plot(x, prediction, color=\"#20B2AA\", label=\"vanilla\")\n",
    "error_subplot.plot(error, color=\"#20B2AA\", label=\"vanilla\")\n",
    "print(\"a =\",a,\", b =\",b)"
   ]
  },
  {
   "cell_type": "code",
   "execution_count": 280,
   "metadata": {},
   "outputs": [
    {
     "name": "stdout",
     "output_type": "stream",
     "text": [
      "a = 0.995868385892 , b = -0.00554632393936\n"
     ]
    }
   ],
   "source": [
    "'''\n",
    "momentum_batch\n",
    "'''\n",
    "a, b, error = momentum_gradient_descent(a_0, b_0, x, y, lr=1e-1, batch_size=250, momentum=0.9)\n",
    "prediction = h(a,b,x)\n",
    "regression_subplot.plot(x, prediction, color=\"r\", label=\"momentum_batch\")\n",
    "error_subplot.plot(error, color=\"r\", label=\"momentum_batch\")\n",
    "print(\"a =\",a,\", b =\",b)"
   ]
  },
  {
   "cell_type": "code",
   "execution_count": 281,
   "metadata": {},
   "outputs": [
    {
     "name": "stdout",
     "output_type": "stream",
     "text": [
      "a = 0.999177502369 , b = 0.0351158178464\n"
     ]
    }
   ],
   "source": [
    "'''\n",
    "adagrad\n",
    "'''\n",
    "a, b, error = adagrad_gradient_descent(a_0, b_0, x, y, lr=1e-1)\n",
    "prediction = h(a,b,x)\n",
    "regression_subplot.plot(x, prediction, color=\"g\", label=\"adagrad\")\n",
    "error_subplot.plot(error, color=\"g\", label=\"adagrad\")\n",
    "print(\"a =\",a,\", b =\",b)"
   ]
  },
  {
   "cell_type": "code",
   "execution_count": 282,
   "metadata": {},
   "outputs": [
    {
     "name": "stdout",
     "output_type": "stream",
     "text": [
      "a = 0.999177503344 , b = 0.00618367358501\n"
     ]
    }
   ],
   "source": [
    "'''\n",
    "rmsprop\n",
    "'''\n",
    "a, b, error = rmsprop_gradient_descent(a_0, b_0, x, y, lr=1e-1)\n",
    "prediction = h(a,b,x)\n",
    "regression_subplot.plot(x, prediction, color=\"#ff008c\", label=\"rmsprop\")\n",
    "error_subplot.plot(error, color=\"#ff008c\", label=\"rmsprop\")\n",
    "print(\"a =\",a,\", b =\",b)"
   ]
  },
  {
   "cell_type": "code",
   "execution_count": 283,
   "metadata": {},
   "outputs": [
    {
     "name": "stdout",
     "output_type": "stream",
     "text": [
      "a = 1.00011814577 , b = 0.0159304259939\n"
     ]
    }
   ],
   "source": [
    "'''\n",
    "adam\n",
    "'''\n",
    "a, b, error = adam_gradient_descent(a_0, b_0, x, y, lr=1e-1)\n",
    "prediction = h(a,b,x)\n",
    "regression_subplot.plot(x, prediction, color=\"purple\", label=\"adam\")\n",
    "error_subplot.plot(error, color=\"purple\", label=\"adam\")\n",
    "print(\"a =\",a,\", b =\",b)"
   ]
  },
  {
   "cell_type": "code",
   "execution_count": 284,
   "metadata": {},
   "outputs": [
    {
     "name": "stdout",
     "output_type": "stream",
     "text": [
      "a = 0.97104170145 , b = -0.0205487151825\n"
     ]
    }
   ],
   "source": [
    "'''\n",
    "adamax\n",
    "'''\n",
    "a, b, error = adamax_gradient_descent(a_0, b_0, x, y, lr=1e-1)\n",
    "prediction = h(a,b,x)\n",
    "regression_subplot.plot(x, prediction, color=\"#4cff00\", label=\"adamax\")\n",
    "error_subplot.plot(error, color=\"#4cff00\", label=\"adamax\")\n",
    "print(\"a =\",a,\", b =\",b)"
   ]
  },
  {
   "cell_type": "code",
   "execution_count": 285,
   "metadata": {},
   "outputs": [
    {
     "data": {
      "text/plain": [
       "' FIXME '"
      ]
     },
     "execution_count": 285,
     "metadata": {},
     "output_type": "execute_result"
    }
   ],
   "source": [
    "'''\n",
    "adadelta\n",
    "'''\n",
    "''' FIXME '''\n",
    "# a, b, error = adadelta_gradient_descent(a_0, b_0, x, y, lr=1e-1)\n",
    "# prediction = h(a,b,x)\n",
    "# regression_subplot.plot(x, prediction, color=\"#00ffe9\", label=\"adadelta\")\n",
    "# error_subplot.plot(error, color=\"#00ffe9\", label=\"adadelta\")\n",
    "# print(\"a =\",a,\", b =\",b)"
   ]
  },
  {
   "cell_type": "code",
   "execution_count": 286,
   "metadata": {},
   "outputs": [
    {
     "name": "stdout",
     "output_type": "stream",
     "text": [
      "a = 0.999184295564 , b = 0.0201678105588\n"
     ]
    }
   ],
   "source": [
    "'''\n",
    "nesterov\n",
    "'''\n",
    "a, b, error = nesterov_gradient_descent(a_0, b_0, x, y, lr=1e-1, gamma=0.9)\n",
    "prediction = h(a,b,x)\n",
    "regression_subplot.plot(x, prediction, color=\"#D8A373\", label=\"nesterov\")\n",
    "error_subplot.plot(error, color=\"#D8A373\", label=\"nesterov\")\n",
    "print(\"a =\",a,\", b =\",b)"
   ]
  },
  {
   "cell_type": "code",
   "execution_count": 287,
   "metadata": {},
   "outputs": [
    {
     "name": "stdout",
     "output_type": "stream",
     "text": [
      "a = 0.999156115631 , b = 0.0617256701166\n"
     ]
    }
   ],
   "source": [
    "'''\n",
    "nadam\n",
    "'''\n",
    "a, b, error = nadam_gradient_descent(a_0, b_0, x, y, lr=1e-1)\n",
    "prediction = h(a,b,x)\n",
    "regression_subplot.plot(x, prediction, color=\"orange\", label=\"nadam\")\n",
    "error_subplot.plot(error, color=\"orange\", label=\"nadam\")\n",
    "print(\"a =\",a,\", b =\",b)"
   ]
  },
  {
   "cell_type": "code",
   "execution_count": 288,
   "metadata": {},
   "outputs": [
    {
     "data": {
      "image/png": "[encoded data removed]",
      "text/plain": [
       "<matplotlib.figure.Figure at 0x2e3bf30>"
      ]
     },
     "metadata": {},
     "output_type": "display_data"
    }
   ],
   "source": [
    "#Set titles\n",
    "regression_subplot.set_title(\"Regression visualization\")\n",
    "error_subplot.set_title(\"Error visualization\")\n",
    "\n",
    "regression_subplot.scatter(x, y, color=\"black\", s=0.1)\n",
    "plt.legend(bbox_to_anchor=(0, -0.2), loc=9, borderaxespad=0.)\n",
    "plt.show()"
   ]
  }
 ],
 "metadata": {
  "kernelspec": {
   "display_name": "Python 3",
   "language": "python",
   "name": "python3"
  },
  "language_info": {
   "codemirror_mode": {
    "name": "ipython",
    "version": 3
   },
   "file_extension": ".py",
   "mimetype": "text/x-python",
   "name": "python",
   "nbconvert_exporter": "python",
   "pygments_lexer": "ipython3",
   "version": "3.6.1"
  }
 },
 "nbformat": 4,
 "nbformat_minor": 2
}
