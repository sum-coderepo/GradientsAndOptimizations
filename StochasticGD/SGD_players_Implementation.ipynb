{
 "cells": [
  {
   "cell_type": "code",
   "execution_count": 1,
   "metadata": {
    "collapsed": true
   },
   "outputs": [],
   "source": [
    "import pandas as pd\n",
    "import numpy as np\n",
    "import matplotlib.pyplot as plt\n",
    "import math\n",
    "import random\n",
    "import time\n",
    "from IPython.core.debugger import Tracer;"
   ]
  },
  {
   "cell_type": "code",
   "execution_count": 2,
   "metadata": {
    "collapsed": true
   },
   "outputs": [],
   "source": [
    "dataset = pd.read_csv(\"HLTVData/playerStats.csv\")\n"
   ]
  },
  {
   "cell_type": "code",
   "execution_count": 3,
   "metadata": {},
   "outputs": [
    {
     "data": {
      "text/html": [
       "<div>\n",
       "<style>\n",
       "    .dataframe thead tr:only-child th {\n",
       "        text-align: right;\n",
       "    }\n",
       "\n",
       "    .dataframe thead th {\n",
       "        text-align: left;\n",
       "    }\n",
       "\n",
       "    .dataframe tbody tr th {\n",
       "        vertical-align: top;\n",
       "    }\n",
       "</style>\n",
       "<table border=\"1\" class=\"dataframe\">\n",
       "  <thead>\n",
       "    <tr style=\"text-align: right;\">\n",
       "      <th></th>\n",
       "      <th>Map</th>\n",
       "      <th>Player</th>\n",
       "      <th>Kills</th>\n",
       "      <th>Deaths</th>\n",
       "      <th>ADR</th>\n",
       "      <th>KAST%</th>\n",
       "      <th>Rating</th>\n",
       "      <th>MatchID</th>\n",
       "    </tr>\n",
       "  </thead>\n",
       "  <tbody>\n",
       "    <tr>\n",
       "      <th>0</th>\n",
       "      <td>Nuke</td>\n",
       "      <td>4216</td>\n",
       "      <td>22</td>\n",
       "      <td>19</td>\n",
       "      <td>85.0</td>\n",
       "      <td>69.0</td>\n",
       "      <td>1.17</td>\n",
       "      <td>2311133/binary-dragons-vs-alpha-binary-dragons...</td>\n",
       "    </tr>\n",
       "    <tr>\n",
       "      <th>1</th>\n",
       "      <td>Nuke</td>\n",
       "      <td>3543</td>\n",
       "      <td>26</td>\n",
       "      <td>23</td>\n",
       "      <td>83.5</td>\n",
       "      <td>58.6</td>\n",
       "      <td>1.10</td>\n",
       "      <td>2311133/binary-dragons-vs-alpha-binary-dragons...</td>\n",
       "    </tr>\n",
       "    <tr>\n",
       "      <th>2</th>\n",
       "      <td>Nuke</td>\n",
       "      <td>3972</td>\n",
       "      <td>20</td>\n",
       "      <td>23</td>\n",
       "      <td>78.2</td>\n",
       "      <td>75.9</td>\n",
       "      <td>1.02</td>\n",
       "      <td>2311133/binary-dragons-vs-alpha-binary-dragons...</td>\n",
       "    </tr>\n",
       "    <tr>\n",
       "      <th>3</th>\n",
       "      <td>Nuke</td>\n",
       "      <td>2476</td>\n",
       "      <td>17</td>\n",
       "      <td>20</td>\n",
       "      <td>68.1</td>\n",
       "      <td>79.3</td>\n",
       "      <td>0.97</td>\n",
       "      <td>2311133/binary-dragons-vs-alpha-binary-dragons...</td>\n",
       "    </tr>\n",
       "    <tr>\n",
       "      <th>4</th>\n",
       "      <td>Nuke</td>\n",
       "      <td>2299</td>\n",
       "      <td>17</td>\n",
       "      <td>20</td>\n",
       "      <td>66.3</td>\n",
       "      <td>65.5</td>\n",
       "      <td>0.86</td>\n",
       "      <td>2311133/binary-dragons-vs-alpha-binary-dragons...</td>\n",
       "    </tr>\n",
       "  </tbody>\n",
       "</table>\n",
       "</div>"
      ],
      "text/plain": [
       "    Map  Player  Kills  Deaths   ADR  KAST%  Rating  \\\n",
       "0  Nuke    4216     22      19  85.0   69.0    1.17   \n",
       "1  Nuke    3543     26      23  83.5   58.6    1.10   \n",
       "2  Nuke    3972     20      23  78.2   75.9    1.02   \n",
       "3  Nuke    2476     17      20  68.1   79.3    0.97   \n",
       "4  Nuke    2299     17      20  66.3   65.5    0.86   \n",
       "\n",
       "                                             MatchID  \n",
       "0  2311133/binary-dragons-vs-alpha-binary-dragons...  \n",
       "1  2311133/binary-dragons-vs-alpha-binary-dragons...  \n",
       "2  2311133/binary-dragons-vs-alpha-binary-dragons...  \n",
       "3  2311133/binary-dragons-vs-alpha-binary-dragons...  \n",
       "4  2311133/binary-dragons-vs-alpha-binary-dragons...  "
      ]
     },
     "execution_count": 3,
     "metadata": {},
     "output_type": "execute_result"
    }
   ],
   "source": [
    "dataset.head()"
   ]
  },
  {
   "cell_type": "code",
   "execution_count": 4,
   "metadata": {
    "collapsed": true
   },
   "outputs": [],
   "source": [
    "#mat = dataset.as_matrix()\n",
    "#dataADR = dataset['ADR']\n",
    "#dataRaiting = dataset['Rating']\n",
    "#indexMatrix = np.array(range(dataset.shape[0]))"
   ]
  },
  {
   "cell_type": "code",
   "execution_count": 5,
   "metadata": {},
   "outputs": [
    {
     "data": {
      "text/html": [
       "<div>\n",
       "<style>\n",
       "    .dataframe thead tr:only-child th {\n",
       "        text-align: right;\n",
       "    }\n",
       "\n",
       "    .dataframe thead th {\n",
       "        text-align: left;\n",
       "    }\n",
       "\n",
       "    .dataframe tbody tr th {\n",
       "        vertical-align: top;\n",
       "    }\n",
       "</style>\n",
       "<table border=\"1\" class=\"dataframe\">\n",
       "  <thead>\n",
       "    <tr style=\"text-align: right;\">\n",
       "      <th></th>\n",
       "      <th>ADR</th>\n",
       "      <th>Rating</th>\n",
       "    </tr>\n",
       "  </thead>\n",
       "  <tbody>\n",
       "    <tr>\n",
       "      <th>0</th>\n",
       "      <td>85.0</td>\n",
       "      <td>117.0</td>\n",
       "    </tr>\n",
       "    <tr>\n",
       "      <th>1</th>\n",
       "      <td>83.5</td>\n",
       "      <td>110.0</td>\n",
       "    </tr>\n",
       "    <tr>\n",
       "      <th>2</th>\n",
       "      <td>78.2</td>\n",
       "      <td>102.0</td>\n",
       "    </tr>\n",
       "    <tr>\n",
       "      <th>3</th>\n",
       "      <td>68.1</td>\n",
       "      <td>97.0</td>\n",
       "    </tr>\n",
       "    <tr>\n",
       "      <th>4</th>\n",
       "      <td>66.3</td>\n",
       "      <td>86.0</td>\n",
       "    </tr>\n",
       "  </tbody>\n",
       "</table>\n",
       "</div>"
      ],
      "text/plain": [
       "    ADR  Rating\n",
       "0  85.0   117.0\n",
       "1  83.5   110.0\n",
       "2  78.2   102.0\n",
       "3  68.1    97.0\n",
       "4  66.3    86.0"
      ]
     },
     "execution_count": 5,
     "metadata": {},
     "output_type": "execute_result"
    }
   ],
   "source": [
    "dataSet = pd.read_csv(\"HLTVData/playerStats.csv\",usecols=['ADR','Rating'])\n",
    "dataSet['Rating'] = dataSet['Rating']*100\n",
    "dataSet.head()"
   ]
  },
  {
   "cell_type": "code",
   "execution_count": 6,
   "metadata": {
    "collapsed": true
   },
   "outputs": [],
   "source": [
    "#dataSet['Rating'] = dataSet['Rating']*100\n",
    "#dataSet.head()"
   ]
  },
  {
   "cell_type": "code",
   "execution_count": 7,
   "metadata": {
    "collapsed": true
   },
   "outputs": [],
   "source": [
    "#this never worked\n",
    "#4 is the ADR and 6 is the Rating\n",
    "#s = pd.DataFrame(dataset, index=indexMatrix,columns=(mat[:,4],mat[:,6]) )\n",
    "#s = pd.DataFrame(dataset, index=np.array(range(dataset.shape[0])), columns=dataset['ADR'])"
   ]
  },
  {
   "cell_type": "code",
   "execution_count": 8,
   "metadata": {
    "scrolled": true
   },
   "outputs": [
    {
     "data": {
      "image/png": "[encoded data removed]",
      "text/plain": [
       "<matplotlib.figure.Figure at 0x7faaf5ac72b0>"
      ]
     },
     "metadata": {},
     "output_type": "display_data"
    }
   ],
   "source": [
    "X= np.array(dataSet['ADR'])\n",
    "y = np.array(dataSet['Rating'])\n",
    "plt.scatter(X,y)\n",
    "plt.xlabel('ADR')\n",
    "plt.ylabel('Rating')\n",
    "plt.show()"
   ]
  },
  {
   "cell_type": "code",
   "execution_count": 9,
   "metadata": {},
   "outputs": [],
   "source": [
    "data = np.array(dataSet)\n",
    "#data\n",
    "#data[1,0]"
   ]
  },
  {
   "cell_type": "code",
   "execution_count": 10,
   "metadata": {
    "collapsed": true
   },
   "outputs": [],
   "source": [
    "def SSE(m,b,data):\n",
    "    totalError=0.0\n",
    "    totalNan = 0\n",
    "    for i in range(data.shape[0]):\n",
    "        if(math.isnan(data[i,0])):\n",
    "            totalNan +=1\n",
    "        else:\n",
    "            yOutput = m*data[i,0]+b\n",
    "            y = data[i,1]\n",
    "            error = (y-yOutput)**2\n",
    "            totalError =totalError+ error\n",
    "    return totalError\n",
    "        "
   ]
  },
  {
   "cell_type": "code",
   "execution_count": 22,
   "metadata": {},
   "outputs": [
    {
     "data": {
      "image/png": "[encoded data removed]",
      "text/plain": [
       "<matplotlib.figure.Figure at 0x7faaf5ab7d30>"
      ]
     },
     "metadata": {},
     "output_type": "display_data"
    }
   ],
   "source": [
    "m = 5\n",
    "b = 4\n",
    "plt.scatter(X,y)\n",
    "plt.plot(X,m*X+b,color='red')\n",
    "plt.show()"
   ]
  },
  {
   "cell_type": "code",
   "execution_count": 12,
   "metadata": {},
   "outputs": [
    {
     "name": "stdout",
     "output_type": "stream",
     "text": [
      "For the fitting line: y = 5x + 4\n",
      "SSE: 14663066056.50\n"
     ]
    }
   ],
   "source": [
    "sse = SSE(m,b,data)\n",
    "print('For the fitting line: y = %sx + %s\\nSSE: %.2f' %(m,b,sse))"
   ]
  },
  {
   "cell_type": "markdown",
   "metadata": {},
   "source": [
    "%%latex\n",
    "\n",
    "o make these ideas more precise, stochastic gradient descent works by randomly picking out a small number m of randomly chosen training inputs. We'll label those random training inputs X_1, X_2, \\ldots, X_m, and refer to them as a mini-batch. Provided the sample size m is large enough we expect that the average value of the \\nabla C_{X_j} will be roughly equal to the average over all \\nabla C_x, that is,\n",
    "\\begin{eqnarray}\n",
    "  \\frac{\\sum_{j=1}^m \\nabla C_{X_{j}}}{m} \\approx \\frac{\\sum_x \\nabla C_x}{n} = \\nabla C,\n",
    "\\tag{18}\\end{eqnarray}\n",
    "where the second sum is over the entire set of training data. Swapping sides we get\n",
    "\\begin{eqnarray}\n",
    "  \\nabla C \\approx \\frac{1}{m} \\sum_{j=1}^m \\nabla C_{X_{j}},\n",
    "\\tag{19}\\end{eqnarray}\n",
    "confirming that we can estimate the overall gradient by computing gradients just for the randomly chosen mini-batch.\n",
    "\n",
    "To connect this explicitly to learning in neural networks, suppose w_k and b_l denote the weights and biases in our neural network. Then stochastic gradient descent works by picking out a randomly chosen mini-batch of training inputs, and training with those,\n",
    "\\begin{eqnarray} \n",
    "  w_k & \\rightarrow & w_k' = w_k-\\frac{\\eta}{m}\n",
    "  \\sum_j \\frac{\\partial C_{X_j}}{\\partial w_k} \\tag{20}\\\\\n",
    "  \n",
    "  b_l & \\rightarrow & b_l' = b_l-\\frac{\\eta}{m}\n",
    "  \\sum_j \\frac{\\partial C_{X_j}}{\\partial b_l},\n",
    "\\tag{21}\\end{eqnarray}\n",
    "where the sums are over all the training examples X_j in the current mini-batch. Then we pick out another randomly chosen mini-batch and train with those. And so on, until we've exhausted the training inputs, which is said to complete an epoch of training. At that point we start over with a new training epoch.\n",
    "\n",
    "\n"
   ]
  },
  {
   "cell_type": "code",
   "execution_count": 13,
   "metadata": {
    "collapsed": true
   },
   "outputs": [],
   "source": [
    "def stochastic_gradient_descent_step(m,b,data_sample):\n",
    "    \n",
    "    n_points = data_sample.shape[0] #size of data\n",
    "    m_grad = 0\n",
    "    b_grad = 0\n",
    "    stepper = 0.0001 #this is the learning rate\n",
    "    \n",
    "    for i in range(n_points):\n",
    "\n",
    "        #Get current pair (x,y)\n",
    "        x = data_sample[i,0]\n",
    "        y = data_sample[i,1]\n",
    "        if(math.isnan(x)|math.isnan(y)): #it will prevent for crashing when some data is missing\n",
    "            #print(\"is nan\")\n",
    "            continue\n",
    "        \n",
    "        #you will calculate the partical derivative for each value in data\n",
    "        #Partial derivative respect 'm'\n",
    "        dm = -((2/n_points) * x * (y - (m*x + b)))\n",
    "        \n",
    "        #Partial derivative respect 'b'\n",
    "        db = - ((2/n_points) * (y - (m*x + b)))\n",
    "       \n",
    "        \n",
    "        #Update gradient\n",
    "        m_grad = m_grad + dm\n",
    "        b_grad = b_grad + db\n",
    "        \n",
    "    #Set the new 'better' updated 'm' and 'b'   \n",
    "    m_updated = m - stepper*m_grad\n",
    "    b_updated = b - stepper*b_grad\n",
    "    #print('m ', m)\n",
    "    ##print('steepr*gradient ',stepper*m_grad)\n",
    "    #print('m_updated', m_updated)\n",
    "    '''\n",
    "    Important note: The value '0.0001' that multiplies the 'm_grad' and 'b_grad' is the 'learning rate', but it's a concept\n",
    "    out of the scope of this challenge. For now, just leave that there and think about it like a 'smoother' of the learn, \n",
    "    to prevent overshooting, that is, an extremly fast and uncontrolled learning.\n",
    "    '''\n",
    "    \n",
    "    return m_updated,b_updated"
   ]
  },
  {
   "cell_type": "markdown",
   "metadata": {},
   "source": [
    "the diference beetween Gradient Descent, Stolchastich Gradient Descent and Mini-batch Gradient Descent is the next:\n",
    "\n",
    "Gradient Descent: You take all the data to compute the gradient.\n",
    "\n",
    "Stochastic Gradient Descent: You only take 1 point to compute the gradient (the bath size is 1) It is faster than Gradient Descent but is to noisy and is afected for the data variance.\n",
    "\n",
    "Mini-Batch Gradient Descent: you take n points (n< data_size) to compute the gradient. Normally you take n aleatory points. \n",
    "\n",
    "As note if you take in Mini-batch gradient descent n==data_size you will be computing normal gradient descent. \n",
    "The difference between Stochastic Gradient Descent and Mini-batch Gradient descent is the size we take for computing the gradient.\n",
    "\n",
    "As you can see in the example bellow I add the first condition to return a sigle random row from the data if the batch_size is equal to 1. But is just for recall the point in the code about the difference between SGD and mini-batch GD. If you analize the code, you can delete the first two line of code and the algorith will result the same for SGD, because if you choose the batch_size equal to 1 it becomes in SGD"
   ]
  },
  {
   "cell_type": "code",
   "execution_count": 14,
   "metadata": {
    "collapsed": true
   },
   "outputs": [],
   "source": [
    "def getSmallRandomDataSample(data, batch_size, shuffle=True): #this method only covers the solution when suffle is true\n",
    "    #stolchastic gradient descent\n",
    "    \n",
    "    #it will take tha batch of size 1, Im just putting this here so you can see the difference. You can delete the next \n",
    "    #two lines and it will work.\n",
    "    if(batch_size==1):\n",
    "        return np.array([random.choice(data)])\n",
    "    #mini-batch gradient descent\n",
    "    if(batch_size< data.shape[0]):\n",
    "        if(shuffle):\n",
    "            #the first two line are simulating like if we were choosing randomly points from the data\n",
    "            index = np.random.permutation(data.shape[0]) #first suffle the index of data\n",
    "            index = index[0:batch_size] #then we take the batch \n",
    "            #algorithm for getting the sample_data\n",
    "            data_sample=[]\n",
    "            for i in index:\n",
    "                data_sample.append(data[i])\n",
    "            return np.array(data_sample)\n",
    "   \n",
    "            "
   ]
  },
  {
   "cell_type": "code",
   "execution_count": 23,
   "metadata": {
    "scrolled": true
   },
   "outputs": [
    {
     "name": "stdout",
     "output_type": "stream",
     "text": [
      "Starting line: y = 5.00x + 4.00 - Error: 62857510.23\n",
      "\n",
      "Best  line: y = 1.43x + 3.93 - Error: 59706304.20\n"
     ]
    }
   ],
   "source": [
    "max_epochs = 100\n",
    "print('Starting line: y = %.2fx + %.2f - Error: %.2f' %(m,b,sse))\n",
    "#start = time.time()\n",
    "for i in range(max_epochs):\n",
    "    data_sample = getSmallRandomDataSample(data,50)\n",
    "    m,b = stochastic_gradient_descent_step(m,b,data_sample)\n",
    "    sse = SSE(m,b,data)\n",
    "    #if(i%10==0):\n",
    "        #end = time.time()\n",
    "        #print('time consumtion = ',end-start)\n",
    "        #print('iteration ', i)\n",
    "        #start = time.time()\n",
    "    #print('At step %d - Line: y = %.2fx + %.2f - Error: %.2f' %(i+1,m,b,sse))\n",
    "print('\\nBest  line: y = %.2fx + %.2f - Error: %.2f' %(m,b,sse))\n"
   ]
  },
  {
   "cell_type": "code",
   "execution_count": 24,
   "metadata": {},
   "outputs": [
    {
     "name": "stdout",
     "output_type": "stream",
     "text": [
      "m  1.42603040085\n",
      "b  3.92998564102\n"
     ]
    },
    {
     "data": {
      "image/png": "[encoded data removed]",
      "text/plain": [
       "<matplotlib.figure.Figure at 0x7faaf28eedd8>"
      ]
     },
     "metadata": {},
     "output_type": "display_data"
    }
   ],
   "source": [
    "print ('m ', m)\n",
    "print('b ', b)\n",
    "plt.scatter(X,y)\n",
    "plt.plot(X,m*X+b,color='red')\n",
    "plt.show()"
   ]
  },
  {
   "cell_type": "code",
   "execution_count": 25,
   "metadata": {
    "collapsed": true
   },
   "outputs": [],
   "source": [
    "#this is to undertand what a permutation does.\n",
    "#a = np.random.permutation(100)\n",
    "#a.sort(kind='quicksort')\n",
    "#a"
   ]
  },
  {
   "cell_type": "code",
   "execution_count": 26,
   "metadata": {
    "collapsed": true
   },
   "outputs": [],
   "source": [
    "#for gradient descent m = 1.4 , b = 0.77\n",
    "#for SGD m = m  1.33361120453 , b =  3.71735648458\n",
    "#for SGD batch=1  m  1.33361120453 , b =  3.71735648458 It has been the best line"
   ]
  },
  {
   "cell_type": "code",
   "execution_count": null,
   "metadata": {
    "collapsed": true
   },
   "outputs": [],
   "source": []
  }
 ],
 "metadata": {
  "kernelspec": {
   "display_name": "Python 3",
   "language": "python",
   "name": "python3"
  },
  "language_info": {
   "codemirror_mode": {
    "name": "ipython",
    "version": 3
   },
   "file_extension": ".py",
   "mimetype": "text/x-python",
   "name": "python",
   "nbconvert_exporter": "python",
   "pygments_lexer": "ipython3",
   "version": "3.5.3"
  }
 },
 "nbformat": 4,
 "nbformat_minor": 2
}
